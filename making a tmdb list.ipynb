{
 "cells": [
  {
   "cell_type": "code",
   "execution_count": null,
   "metadata": {},
   "outputs": [],
   "source": []
  },
  {
   "cell_type": "code",
   "execution_count": null,
   "metadata": {},
   "outputs": [],
   "source": [
    "import requests\n",
    "\n",
    "# replace 'your_api_key' with your actual TMDb API key\n",
    "API_KEY = ''\n",
    "BASE_URL = 'https://api.themoviedb.org/3'\n",
    "\n",
    "# function to create a new list\n",
    "def create_list(name, description):\n",
    "    url = f\"{BASE_URL}/list\"\n",
    "    headers = {\n",
    "        'Content-Type': 'application/json;charset=utf-8'\n",
    "    }\n",
    "    data = {\n",
    "        'name': name,\n",
    "        'description': description,\n",
    "        'language': 'en'\n",
    "    }\n",
    "    response = requests.post(url, headers=headers, json=data, params={'api_key': API_KEY})\n",
    "    \n",
    "    if response.status_code == 201:\n",
    "        print(\"List created successfully!\")\n",
    "        return response.json()\n",
    "    else:\n",
    "        print(f\"Failed to create list: {response.status_code}, {response.text}\")\n",
    "        return None\n",
    "\n",
    "# function to add a movie to a list\n",
    "def add_movie_to_list(list_id, movie_id):\n",
    "    url = f\"{BASE_URL}/list/{list_id}/add_item\"\n",
    "    data = {\n",
    "        'media_id': movie_id\n",
    "    }\n",
    "    response = requests.post(url, json=data, params={'api_key': API_KEY})\n",
    "    \n",
    "    if response.status_code == 201:\n",
    "        print(\"Movie added successfully!\")\n",
    "    else:\n",
    "        print(f\"Failed to add movie: {response.status_code}, {response.text}\")\n",
    "\n",
    "# Example usage\n",
    "if __name__ == '__main__':\n",
    "    # create a new list\n",
    "    my_list = create_list(\"My Favorite Movies\", \"A list of my favorite movies.\")\n",
    "    \n",
    "    if my_list:\n",
    "        # add movies to the list (replace with actual movie IDs)\n",
    "        add_movie_to_list(my_list['id'], 550)  # Fight Club\n",
    "        add_movie_to_list(my_list['id'], 27205)  # The Matrix\n"
   ]
  }
 ],
 "metadata": {
  "language_info": {
   "name": "python"
  }
 },
 "nbformat": 4,
 "nbformat_minor": 2
}
